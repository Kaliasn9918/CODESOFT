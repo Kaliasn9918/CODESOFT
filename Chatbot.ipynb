{
 "cells": [
  {
   "cell_type": "code",
   "execution_count": 7,
   "id": "a3e572a5-3376-441a-85c0-b599bc1895f2",
   "metadata": {},
   "outputs": [
    {
     "name": "stdout",
     "output_type": "stream",
     "text": [
      "Chatbot:Wlcome!Feel free to ask anything!(type 'exit' to exit the chat)\n"
     ]
    },
    {
     "name": "stdin",
     "output_type": "stream",
     "text": [
      "You:  hi\n"
     ]
    },
    {
     "name": "stdout",
     "output_type": "stream",
     "text": [
      "Hello!how can I assist you?\n"
     ]
    },
    {
     "name": "stdin",
     "output_type": "stream",
     "text": [
      "You:  how are you\n"
     ]
    },
    {
     "name": "stdout",
     "output_type": "stream",
     "text": [
      "Nothing great!I am a chatbot;-D\n"
     ]
    },
    {
     "name": "stdin",
     "output_type": "stream",
     "text": [
      "You:  bye\n"
     ]
    },
    {
     "name": "stdout",
     "output_type": "stream",
     "text": [
      "Goodbye!have a great day ahead!\n"
     ]
    }
   ],
   "source": [
    "def Chatbot():\n",
    "    print(\"Chatbot:Wlcome!Feel free to ask anything!(type 'exit' to exit the chat)\")\n",
    "    while True:\n",
    "        user_input=input(\"You: \").lower()\n",
    "        if user_input in[\"hi\",\"hello\"]:\n",
    "            print(\"Hello!how can I assist you?\")\n",
    "        elif user_input in[\"how are you\",\"hey whatsupp\"]:\n",
    "            print(\"Nothing great!I am a chatbot;-D\")\n",
    "        elif user_input in[\"What can you do??\",\"what are your applications??\"]:\n",
    "            print(\"I am a simple CHatbot. I can answer simple questions asked by user for the time being!\")\n",
    "        elif user_input in[\"nice to hear\",\"wow!cool!\"]:\n",
    "            print(\"yup\")\n",
    "        elif user_input in[\"What the time right now?\",\"whats the time??\"]:\n",
    "            print(\"Sorry I can not assist you with that, you can check it on your device.\")\n",
    "        elif user_input in[\"exit\",\"bye\"]:\n",
    "            print(\"Goodbye!have a great day ahead!\")\n",
    "            break\n",
    "        else:\n",
    "            print(\"Sorry I cannot not assist you with that at present movement.Could you please chandge your question??\")\n",
    "if __name__==\"__main__\":\n",
    "            Chatbot()"
   ]
  },
  {
   "cell_type": "code",
   "execution_count": null,
   "id": "20c6bfe6-c4f8-4e03-82e4-63644765f587",
   "metadata": {},
   "outputs": [],
   "source": []
  }
 ],
 "metadata": {
  "kernelspec": {
   "display_name": "Python 3 (ipykernel)",
   "language": "python",
   "name": "python3"
  },
  "language_info": {
   "codemirror_mode": {
    "name": "ipython",
    "version": 3
   },
   "file_extension": ".py",
   "mimetype": "text/x-python",
   "name": "python",
   "nbconvert_exporter": "python",
   "pygments_lexer": "ipython3",
   "version": "3.12.7"
  }
 },
 "nbformat": 4,
 "nbformat_minor": 5
}
