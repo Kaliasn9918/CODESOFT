{
 "cells": [
  {
   "cell_type": "code",
   "execution_count": 1,
   "id": "e7a40d33-b1fb-4449-959e-822b8897d1dd",
   "metadata": {},
   "outputs": [
    {
     "name": "stdout",
     "output_type": "stream",
     "text": [
      "Tic-Tac-Toe: You are 'X' and the your AI is 'O'.\n",
      "  |   |  \n",
      "---------\n",
      "  |   |  \n",
      "---------\n",
      "  |   |  \n",
      "---------\n"
     ]
    },
    {
     "name": "stdin",
     "output_type": "stream",
     "text": [
      "Enter your move (row col):  1 2\n"
     ]
    },
    {
     "name": "stdout",
     "output_type": "stream",
     "text": [
      "AI played at position: 1, 1\n",
      "O | X |  \n",
      "---------\n",
      "  |   |  \n",
      "---------\n",
      "  |   |  \n",
      "---------\n"
     ]
    },
    {
     "name": "stdin",
     "output_type": "stream",
     "text": [
      "Enter your move (row col):  1 3\n"
     ]
    },
    {
     "name": "stdout",
     "output_type": "stream",
     "text": [
      "AI played at position: 2, 1\n",
      "O | X | X\n",
      "---------\n",
      "O |   |  \n",
      "---------\n",
      "  |   |  \n",
      "---------\n"
     ]
    },
    {
     "name": "stdin",
     "output_type": "stream",
     "text": [
      "Enter your move (row col):  3 2\n"
     ]
    },
    {
     "name": "stdout",
     "output_type": "stream",
     "text": [
      "AI played at position: 2, 2\n",
      "O | X | X\n",
      "---------\n",
      "O | O |  \n",
      "---------\n",
      "  | X |  \n",
      "---------\n"
     ]
    },
    {
     "name": "stdin",
     "output_type": "stream",
     "text": [
      "Enter your move (row col):  3 3\n"
     ]
    },
    {
     "name": "stdout",
     "output_type": "stream",
     "text": [
      "AI played at position: 2, 3\n",
      "O | X | X\n",
      "---------\n",
      "O | O | O\n",
      "---------\n",
      "  | X | X\n",
      "---------\n",
      "Winner: O\n",
      "O | X | X\n",
      "---------\n",
      "O | O | O\n",
      "---------\n",
      "  | X | X\n",
      "---------\n",
      "Winner: O\n"
     ]
    }
   ],
   "source": [
    "import math\n",
    "\n",
    "def print_board(board):\n",
    "    for row in board:\n",
    "        print(\" | \".join(cell if cell is not None else \" \" for cell in row))\n",
    "        print(\"---------\")\n",
    "\n",
    "def check_winner(board):\n",
    "    for i in range(3):\n",
    "        if board[i][0] is not None and board[i][0] == board[i][1] == board[i][2]:\n",
    "            return board[i][0]\n",
    "        if board[0][i] is not None and board[0][i] == board[1][i] == board[2][i]:\n",
    "            return board[0][i]\n",
    "    if board[0][0] is not None and board[0][0] == board[1][1] == board[2][2]:\n",
    "        return board[0][0]\n",
    "    if board[0][2] is not None and board[0][2] == board[1][1] == board[2][0]:\n",
    "        return board[0][2]\n",
    "    return None\n",
    "\n",
    "def board_full(board):\n",
    "    for row in board:\n",
    "        if None in row:\n",
    "            return False\n",
    "    return True\n",
    "\n",
    "def minimax(board, is_ai_turn):\n",
    "    winner = check_winner(board)\n",
    "    if winner == \"O\":  \n",
    "        return 1\n",
    "    if winner == \"X\":  \n",
    "        return -1\n",
    "    if board_full(board):\n",
    "        return 0\n",
    "\n",
    "    if is_ai_turn:\n",
    "        best_score = -math.inf\n",
    "        for i in range(3):\n",
    "            for j in range(3):\n",
    "                if board[i][j] is None:\n",
    "                    board[i][j] = \"O\"\n",
    "                    score = minimax(board, False)\n",
    "                    board[i][j] = None\n",
    "                    best_score = max(best_score, score)\n",
    "        return best_score\n",
    "    else:\n",
    "        best_score = math.inf\n",
    "        for i in range(3):\n",
    "            for j in range(3):\n",
    "                if board[i][j] is None:\n",
    "                    board[i][j] = \"X\"\n",
    "                    score = minimax(board, True)\n",
    "                    board[i][j] = None\n",
    "                    best_score = min(best_score, score)\n",
    "        return best_score\n",
    "\n",
    "def ai_move(board):\n",
    "    best_score = -math.inf\n",
    "    best_move = (-1, -1)\n",
    "    for i in range(3):\n",
    "        for j in range(3):\n",
    "            if board[i][j] is None:\n",
    "                board[i][j] = \"O\"\n",
    "                score = minimax(board, False)\n",
    "                board[i][j] = None\n",
    "                if score > best_score:\n",
    "                    best_score = score\n",
    "                    best_move = (i, j)\n",
    "    return best_move\n",
    "\n",
    "def main():\n",
    "    board = [[None, None, None] for _ in range(3)]\n",
    "    print(\"Tic-Tac-Toe: You are 'X' and the your AI is 'O'.\")\n",
    "    \n",
    "    while True:\n",
    "        print_board(board)\n",
    "        if check_winner(board) is not None:\n",
    "            print(\"Winner:\", check_winner(board))\n",
    "            break\n",
    "        if board_full(board):\n",
    "            print(\"draw!\")\n",
    "            break\n",
    "\n",
    "        move = input(\"Enter your move (row col): \").split()\n",
    "        if len(move) != 2:\n",
    "            print(\"Enter two numbers.\")\n",
    "            continue\n",
    "        try:\n",
    "            row, col = int(move[0]) - 1, int(move[1]) - 1  \n",
    "        except ValueError:\n",
    "            print(\"Enter valid numbers!\")\n",
    "            continue\n",
    "        if row not in range(3) or col not in range(3) or board[row][col] is not None:\n",
    "            print(\"dont know to play , try again!\")\n",
    "            continue\n",
    "        board[row][col] = \"X\"\n",
    "        \n",
    "        if check_winner(board) or board_full(board):\n",
    "            break\n",
    "\n",
    "        i, j = ai_move(board)\n",
    "        board[i][j] = \"O\"\n",
    "        print(f\"AI played at position: {i+1}, {j+1}\")\n",
    "\n",
    "    print_board(board)\n",
    "    if check_winner(board) is not None:\n",
    "        print(\"Winner:\", check_winner(board))\n",
    "    else:\n",
    "        print(\"ITs a draw!\")\n",
    "\n",
    "if __name__ == \"__main__\":\n",
    "    main()"
   ]
  },
  {
   "cell_type": "code",
   "execution_count": null,
   "id": "5ed3e213-4008-4529-8faf-2067a849eec7",
   "metadata": {},
   "outputs": [],
   "source": []
  }
 ],
 "metadata": {
  "kernelspec": {
   "display_name": "Python 3 (ipykernel)",
   "language": "python",
   "name": "python3"
  },
  "language_info": {
   "codemirror_mode": {
    "name": "ipython",
    "version": 3
   },
   "file_extension": ".py",
   "mimetype": "text/x-python",
   "name": "python",
   "nbconvert_exporter": "python",
   "pygments_lexer": "ipython3",
   "version": "3.12.7"
  }
 },
 "nbformat": 4,
 "nbformat_minor": 5
}
